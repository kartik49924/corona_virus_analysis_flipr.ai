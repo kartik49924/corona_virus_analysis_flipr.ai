{
 "cells": [
  {
   "cell_type": "code",
   "execution_count": 1,
   "metadata": {},
   "outputs": [],
   "source": [
    "import pandas as pd\n",
    "import matplotlib.pyplot as plt\n",
    "import xgboost as xgb\n",
    "import numpy as np\n",
    "import seaborn as sns\n",
    "from sklearn.linear_model import LinearRegression\n",
    "from sklearn.model_selection import train_test_split\n",
    "from sklearn.ensemble import RandomForestRegressor\n",
    "from sklearn.metrics import mean_squared_error\n",
    "from sklearn.model_selection import KFold\n",
    "from sklearn.model_selection import cross_val_score\n",
    "from sklearn.model_selection import GridSearchCV\n",
    "from sklearn.linear_model import LinearRegression\n",
    "from sklearn.linear_model import Lasso\n",
    "from sklearn.linear_model import ElasticNet\n",
    "from sklearn.pipeline import Pipeline\n",
    "from sklearn.metrics import mean_squared_error\n",
    "from sklearn.ensemble import GradientBoostingRegressor\n",
    "from scipy.stats import uniform"
   ]
  },
  {
   "cell_type": "code",
   "execution_count": 2,
   "metadata": {},
   "outputs": [],
   "source": [
    "##Importing data\n",
    "train_feats=pd.read_csv('train_features.csv')\n",
    "target=pd.read_csv('infection_probablity.csv')\n",
    "test_feats=pd.read_csv('test_features.csv')\n",
    "test_id=pd.read_csv('test_id.csv')"
   ]
  },
  {
   "cell_type": "code",
   "execution_count": 3,
   "metadata": {},
   "outputs": [],
   "source": [
    "## Splitting dataset intro training and validation datasets\n",
    "X=train_feats.values\n",
    "Y=target.values\n",
    "validation_size=.2\n",
    "seed=7\n",
    "X_test=test_feats.values\n",
    "X_train, X_validation, Y_train, Y_validation = train_test_split(X, Y,\n",
    "test_size=validation_size, random_state=seed)"
   ]
  },
  {
   "cell_type": "markdown",
   "metadata": {},
   "source": [
    "## Simple linear models\n"
   ]
  },
  {
   "cell_type": "code",
   "execution_count": 4,
   "metadata": {
    "scrolled": true
   },
   "outputs": [
    {
     "name": "stderr",
     "output_type": "stream",
     "text": [
      "/home/kartik/.local/lib/python3.6/site-packages/sklearn/model_selection/_split.py:296: FutureWarning: Setting a random_state has no effect since shuffle is False. This will raise an error in 0.24. You should leave random_state to its default (None), or set shuffle=True.\n",
      "  FutureWarning\n"
     ]
    },
    {
     "name": "stdout",
     "output_type": "stream",
     "text": [
      " LR : -86.942658 (5.281694)\n",
      " LASSO : -96.982619 (7.686428)\n"
     ]
    },
    {
     "name": "stderr",
     "output_type": "stream",
     "text": [
      "/home/kartik/.local/lib/python3.6/site-packages/sklearn/model_selection/_split.py:296: FutureWarning: Setting a random_state has no effect since shuffle is False. This will raise an error in 0.24. You should leave random_state to its default (None), or set shuffle=True.\n",
      "  FutureWarning\n",
      "/home/kartik/.local/lib/python3.6/site-packages/sklearn/model_selection/_split.py:296: FutureWarning: Setting a random_state has no effect since shuffle is False. This will raise an error in 0.24. You should leave random_state to its default (None), or set shuffle=True.\n",
      "  FutureWarning\n"
     ]
    },
    {
     "name": "stdout",
     "output_type": "stream",
     "text": [
      " EN : -100.064551 (8.023323)\n"
     ]
    }
   ],
   "source": [
    "models = []\n",
    "models.append(( ' LR ' , LinearRegression()))\n",
    "models.append(( ' LASSO ' , Lasso()))\n",
    "models.append(( ' EN ' , ElasticNet()))\n",
    "scoring='neg_mean_squared_error'\n",
    "results = []\n",
    "names = []\n",
    "for name, model in models:\n",
    "    kfold = KFold(n_splits=5, random_state=seed)\n",
    "    cv_results = cross_val_score(model, X_train, Y_train, cv=kfold, scoring=scoring)\n",
    "    results.append(cv_results)\n",
    "    names.append(name)\n",
    "    msg = \"%s: %f (%f)\" % (name, cv_results.mean(), cv_results.std())\n",
    "    print(msg)"
   ]
  },
  {
   "cell_type": "code",
   "execution_count": 5,
   "metadata": {
    "scrolled": true
   },
   "outputs": [
    {
     "name": "stdout",
     "output_type": "stream",
     "text": [
      "Linear Regrssion results:\n",
      "Training MSE: 84.55327414931111\n",
      "Validation MSE: 78.16384999849028\n"
     ]
    }
   ],
   "source": [
    "##Conclusion: Out of three, liner regression works best on training data let see its effectivness on validation data\n",
    "model= LinearRegression()\n",
    "model.fit(X_train,Y_train)\n",
    "#prediction=model.predict(X_validation)\n",
    "print(\"Linear Regrssion results:\")\n",
    "print(\"Training MSE: {}\".format(mean_squared_error(model.predict(X_train),Y_train)))\n",
    "print(\"Validation MSE: {}\".format(mean_squared_error(model.predict(X_validation),Y_validation)))"
   ]
  },
  {
   "cell_type": "markdown",
   "metadata": {},
   "source": [
    "## Ensemble methods"
   ]
  },
  {
   "cell_type": "code",
   "execution_count": 6,
   "metadata": {},
   "outputs": [
    {
     "name": "stderr",
     "output_type": "stream",
     "text": [
      "/home/kartik/.local/lib/python3.6/site-packages/ipykernel_launcher.py:3: DataConversionWarning: A column-vector y was passed when a 1d array was expected. Please change the shape of y to (n_samples,), for example using ravel().\n",
      "  This is separate from the ipykernel package so we can avoid doing imports until\n"
     ]
    },
    {
     "name": "stdout",
     "output_type": "stream",
     "text": [
      "Random Forest regressor results:\n",
      "Training MSE: 12.003789976642153\n",
      "Validation MSE: 78.33424758502714\n"
     ]
    }
   ],
   "source": [
    "#Cheking ensemble technique random forest.\n",
    "model= RandomForestRegressor()\n",
    "model.fit(X_train,Y_train)\n",
    "#prediction=model.predict(X_validation)\n",
    "print(\"Random Forest regressor results:\")\n",
    "print(\"Training MSE: {}\".format(mean_squared_error(model.predict(X_train),Y_train)))\n",
    "print(\"Validation MSE: {}\".format(mean_squared_error(model.predict(X_validation),Y_validation)))"
   ]
  },
  {
   "cell_type": "markdown",
   "metadata": {},
   "source": [
    "### Conclusion:\n",
    "It appears that random forest is quite overfitting on the data\n",
    "May be hyper parameter tuning can help in reducing overfitting.\n"
   ]
  },
  {
   "cell_type": "code",
   "execution_count": 7,
   "metadata": {},
   "outputs": [
    {
     "name": "stderr",
     "output_type": "stream",
     "text": [
      "/home/kartik/.local/lib/python3.6/site-packages/sklearn/model_selection/_search.py:281: UserWarning: The total space of parameters 4 is smaller than n_iter=100. Running 4 iterations. For exhaustive searches, use GridSearchCV.\n",
      "  % (grid_size, self.n_iter, grid_size), UserWarning)\n",
      "/home/kartik/.local/lib/python3.6/site-packages/sklearn/model_selection/_validation.py:515: DataConversionWarning: A column-vector y was passed when a 1d array was expected. Please change the shape of y to (n_samples,), for example using ravel().\n",
      "  estimator.fit(X_train, y_train, **fit_params)\n",
      "/home/kartik/.local/lib/python3.6/site-packages/sklearn/model_selection/_validation.py:515: DataConversionWarning: A column-vector y was passed when a 1d array was expected. Please change the shape of y to (n_samples,), for example using ravel().\n",
      "  estimator.fit(X_train, y_train, **fit_params)\n",
      "/home/kartik/.local/lib/python3.6/site-packages/sklearn/model_selection/_validation.py:515: DataConversionWarning: A column-vector y was passed when a 1d array was expected. Please change the shape of y to (n_samples,), for example using ravel().\n",
      "  estimator.fit(X_train, y_train, **fit_params)\n",
      "/home/kartik/.local/lib/python3.6/site-packages/sklearn/model_selection/_validation.py:515: DataConversionWarning: A column-vector y was passed when a 1d array was expected. Please change the shape of y to (n_samples,), for example using ravel().\n",
      "  estimator.fit(X_train, y_train, **fit_params)\n",
      "/home/kartik/.local/lib/python3.6/site-packages/sklearn/model_selection/_validation.py:515: DataConversionWarning: A column-vector y was passed when a 1d array was expected. Please change the shape of y to (n_samples,), for example using ravel().\n",
      "  estimator.fit(X_train, y_train, **fit_params)\n",
      "/home/kartik/.local/lib/python3.6/site-packages/sklearn/model_selection/_validation.py:515: DataConversionWarning: A column-vector y was passed when a 1d array was expected. Please change the shape of y to (n_samples,), for example using ravel().\n",
      "  estimator.fit(X_train, y_train, **fit_params)\n",
      "/home/kartik/.local/lib/python3.6/site-packages/sklearn/model_selection/_validation.py:515: DataConversionWarning: A column-vector y was passed when a 1d array was expected. Please change the shape of y to (n_samples,), for example using ravel().\n",
      "  estimator.fit(X_train, y_train, **fit_params)\n",
      "/home/kartik/.local/lib/python3.6/site-packages/sklearn/model_selection/_validation.py:515: DataConversionWarning: A column-vector y was passed when a 1d array was expected. Please change the shape of y to (n_samples,), for example using ravel().\n",
      "  estimator.fit(X_train, y_train, **fit_params)\n",
      "/home/kartik/.local/lib/python3.6/site-packages/sklearn/model_selection/_validation.py:515: DataConversionWarning: A column-vector y was passed when a 1d array was expected. Please change the shape of y to (n_samples,), for example using ravel().\n",
      "  estimator.fit(X_train, y_train, **fit_params)\n",
      "/home/kartik/.local/lib/python3.6/site-packages/sklearn/model_selection/_validation.py:515: DataConversionWarning: A column-vector y was passed when a 1d array was expected. Please change the shape of y to (n_samples,), for example using ravel().\n",
      "  estimator.fit(X_train, y_train, **fit_params)\n",
      "/home/kartik/.local/lib/python3.6/site-packages/sklearn/model_selection/_validation.py:515: DataConversionWarning: A column-vector y was passed when a 1d array was expected. Please change the shape of y to (n_samples,), for example using ravel().\n",
      "  estimator.fit(X_train, y_train, **fit_params)\n",
      "/home/kartik/.local/lib/python3.6/site-packages/sklearn/model_selection/_validation.py:515: DataConversionWarning: A column-vector y was passed when a 1d array was expected. Please change the shape of y to (n_samples,), for example using ravel().\n",
      "  estimator.fit(X_train, y_train, **fit_params)\n",
      "/home/kartik/.local/lib/python3.6/site-packages/sklearn/model_selection/_validation.py:515: DataConversionWarning: A column-vector y was passed when a 1d array was expected. Please change the shape of y to (n_samples,), for example using ravel().\n",
      "  estimator.fit(X_train, y_train, **fit_params)\n",
      "/home/kartik/.local/lib/python3.6/site-packages/sklearn/model_selection/_validation.py:515: DataConversionWarning: A column-vector y was passed when a 1d array was expected. Please change the shape of y to (n_samples,), for example using ravel().\n",
      "  estimator.fit(X_train, y_train, **fit_params)\n",
      "/home/kartik/.local/lib/python3.6/site-packages/sklearn/model_selection/_validation.py:515: DataConversionWarning: A column-vector y was passed when a 1d array was expected. Please change the shape of y to (n_samples,), for example using ravel().\n",
      "  estimator.fit(X_train, y_train, **fit_params)\n",
      "/home/kartik/.local/lib/python3.6/site-packages/sklearn/model_selection/_validation.py:515: DataConversionWarning: A column-vector y was passed when a 1d array was expected. Please change the shape of y to (n_samples,), for example using ravel().\n",
      "  estimator.fit(X_train, y_train, **fit_params)\n",
      "/home/kartik/.local/lib/python3.6/site-packages/sklearn/model_selection/_validation.py:515: DataConversionWarning: A column-vector y was passed when a 1d array was expected. Please change the shape of y to (n_samples,), for example using ravel().\n",
      "  estimator.fit(X_train, y_train, **fit_params)\n",
      "/home/kartik/.local/lib/python3.6/site-packages/sklearn/model_selection/_validation.py:515: DataConversionWarning: A column-vector y was passed when a 1d array was expected. Please change the shape of y to (n_samples,), for example using ravel().\n",
      "  estimator.fit(X_train, y_train, **fit_params)\n",
      "/home/kartik/.local/lib/python3.6/site-packages/sklearn/model_selection/_validation.py:515: DataConversionWarning: A column-vector y was passed when a 1d array was expected. Please change the shape of y to (n_samples,), for example using ravel().\n",
      "  estimator.fit(X_train, y_train, **fit_params)\n",
      "/home/kartik/.local/lib/python3.6/site-packages/sklearn/model_selection/_validation.py:515: DataConversionWarning: A column-vector y was passed when a 1d array was expected. Please change the shape of y to (n_samples,), for example using ravel().\n",
      "  estimator.fit(X_train, y_train, **fit_params)\n",
      "/home/kartik/.local/lib/python3.6/site-packages/sklearn/model_selection/_search.py:739: DataConversionWarning: A column-vector y was passed when a 1d array was expected. Please change the shape of y to (n_samples,), for example using ravel().\n",
      "  self.best_estimator_.fit(X, y, **fit_params)\n"
     ]
    },
    {
     "name": "stdout",
     "output_type": "stream",
     "text": [
      "Random Forest regressor results:\n",
      "Training MSE: 81.44717074204283\n",
      "Validation MSE: 76.80642484948294\n",
      "0.2655602150116736\n",
      "RandomForestRegressor(bootstrap=True, ccp_alpha=0.0, criterion='mse',\n",
      "                      max_depth=4, max_features='auto', max_leaf_nodes=None,\n",
      "                      max_samples=None, min_impurity_decrease=0.0,\n",
      "                      min_impurity_split=None, min_samples_leaf=1,\n",
      "                      min_samples_split=2, min_weight_fraction_leaf=0.0,\n",
      "                      n_estimators=100, n_jobs=None, oob_score=False,\n",
      "                      random_state=None, verbose=0, warm_start=False)\n"
     ]
    }
   ],
   "source": [
    "from sklearn.model_selection import RandomizedSearchCV\n",
    "est=RandomForestRegressor(n_estimators=100)\n",
    "#est=GradientBoostingRegressor()\n",
    "param_grid = { 'max_depth':[2,3,4,5]}\n",
    "model = RandomizedSearchCV(estimator=est, param_distributions=param_grid, n_iter=100,\n",
    "random_state=7)\n",
    "model.fit(X_train, Y_train)\n",
    "\n",
    "print(\"Random Forest regressor results:\")\n",
    "print(\"Training MSE: {}\".format(mean_squared_error(model.predict(X_train),Y_train)))\n",
    "print(\"Validation MSE: {}\".format(mean_squared_error(model.predict(X_validation),Y_validation)))\n",
    "\n",
    "print(model.best_score_)\n",
    "print(model.best_estimator_)"
   ]
  },
  {
   "cell_type": "code",
   "execution_count": 8,
   "metadata": {},
   "outputs": [
    {
     "name": "stderr",
     "output_type": "stream",
     "text": [
      "/home/kartik/.local/lib/python3.6/site-packages/ipykernel_launcher.py:3: DataConversionWarning: A column-vector y was passed when a 1d array was expected. Please change the shape of y to (n_samples,), for example using ravel().\n",
      "  This is separate from the ipykernel package so we can avoid doing imports until\n"
     ]
    },
    {
     "name": "stdout",
     "output_type": "stream",
     "text": [
      "Random Forest regressor results:\n",
      "Training MSE: 81.52119962293229\n",
      "Validation MSE: 76.52026783260716\n"
     ]
    }
   ],
   "source": [
    "#Optimized Random forest regressor\n",
    "model= RandomForestRegressor(n_estimators=100,max_depth=4)\n",
    "model.fit(X_train,Y_train)\n",
    "#prediction=model.predict(X_validation)\n",
    "print(\"Random Forest regressor results:\")\n",
    "print(\"Training MSE: {}\".format(mean_squared_error(model.predict(X_train),Y_train)))\n",
    "print(\"Validation MSE: {}\".format(mean_squared_error(model.predict(X_validation),Y_validation)))"
   ]
  },
  {
   "cell_type": "markdown",
   "metadata": {},
   "source": [
    "## XgBoost"
   ]
  },
  {
   "cell_type": "code",
   "execution_count": 9,
   "metadata": {},
   "outputs": [],
   "source": [
    "from xgboost import plot_importance\n",
    "import xgboost as xgb"
   ]
  },
  {
   "cell_type": "code",
   "execution_count": 10,
   "metadata": {},
   "outputs": [
    {
     "name": "stdout",
     "output_type": "stream",
     "text": [
      "RMSE for xgboost: 138.65\n"
     ]
    },
    {
     "data": {
      "image/png": "[encoded data removed]",
      "text/plain": [
       "<Figure size 432x288 with 1 Axes>"
      ]
     },
     "metadata": {
      "needs_background": "light"
     },
     "output_type": "display_data"
    }
   ],
   "source": [
    "def rmse(a,b):\n",
    "    return np.mean((a-b)**2)\n",
    "\n",
    "params = {\n",
    "    'booster': 'gbtree',\n",
    "    'objective': 'reg:gamma',\n",
    "    'gamma': 0.1,\n",
    "    'max_depth': 4,\n",
    "    'lambda': 3,\n",
    "    'subsample': 0.7,\n",
    "    'colsample_bytree': 0.7,\n",
    "    'min_child_weight': 3,\n",
    "    'silent': 1,\n",
    "    'eta': 0.1,\n",
    "    'seed': 1000,\n",
    "    'nthread': 4,\n",
    "}\n",
    "\n",
    "plst = params.items()\n",
    "dtrain = xgb.DMatrix(X_train, Y_train)\n",
    "dtest = xgb.DMatrix(X_validation)\n",
    "num_rounds = 500\n",
    "xgb_model = xgb.train(plst, dtrain, num_rounds)\n",
    "yt_xgb = xgb_model.predict(dtest)\n",
    "rmse_xgb = rmse(Y_validation, yt_xgb)\n",
    "sns.regplot(Y_validation, yt_xgb)\n",
    "print(\"RMSE for xgboost: %.2f\" % rmse_xgb)"
   ]
  },
  {
   "cell_type": "code",
   "execution_count": 11,
   "metadata": {},
   "outputs": [],
   "source": [
    "from tpot import TPOTRegressor"
   ]
  },
  {
   "cell_type": "code",
   "execution_count": 12,
   "metadata": {},
   "outputs": [
    {
     "name": "stderr",
     "output_type": "stream",
     "text": [
      "/home/kartik/.local/lib/python3.6/site-packages/sklearn/utils/validation.py:760: DataConversionWarning: A column-vector y was passed when a 1d array was expected. Please change the shape of y to (n_samples, ), for example using ravel().\n",
      "  y = column_or_1d(y, warn=True)\n"
     ]
    },
    {
     "data": {
      "application/vnd.jupyter.widget-view+json": {
       "model_id": "87d73c54c583403d9545eacd50d26c4e",
       "version_major": 2,
       "version_minor": 0
      },
      "text/plain": [
       "HBox(children=(FloatProgress(value=0.0, description='Optimization Progress', max=450.0, style=ProgressStyle(de…"
      ]
     },
     "metadata": {},
     "output_type": "display_data"
    },
    {
     "name": "stdout",
     "output_type": "stream",
     "text": [
      "Generation 1 - Current best internal CV score: -97.44223649836078\n",
      "Generation 2 - Current best internal CV score: -97.44223649836078\n",
      "Generation 3 - Current best internal CV score: -97.44223649836078\n",
      "Generation 4 - Current best internal CV score: -84.2639160738192\n",
      "Generation 5 - Current best internal CV score: -84.2639160738192\n",
      "Generation 6 - Current best internal CV score: -84.2639160738192\n",
      "Generation 7 - Current best internal CV score: -84.2639160738192\n",
      "Generation 8 - Current best internal CV score: -84.2639160738192\n",
      "\n",
      "Best pipeline: DecisionTreeRegressor(ExtraTreesRegressor(MinMaxScaler(input_matrix), bootstrap=True, max_features=0.9000000000000001, min_samples_leaf=13, min_samples_split=4, n_estimators=100), max_depth=1, min_samples_leaf=9, min_samples_split=10)\n"
     ]
    },
    {
     "name": "stderr",
     "output_type": "stream",
     "text": [
      "/home/kartik/.local/lib/python3.6/site-packages/sklearn/utils/validation.py:760: DataConversionWarning: A column-vector y was passed when a 1d array was expected. Please change the shape of y to (n_samples, ), for example using ravel().\n",
      "  y = column_or_1d(y, warn=True)\n"
     ]
    },
    {
     "data": {
      "text/plain": [
       "-90.43403676015421"
      ]
     },
     "execution_count": 12,
     "metadata": {},
     "output_type": "execute_result"
    }
   ],
   "source": [
    "model = TPOTRegressor(generations=8, population_size=50, verbosity=2)\n",
    "model.fit(X_train[:100], Y_train[:100])\n",
    "model.score(X_validation, Y_validation)"
   ]
  },
  {
   "cell_type": "code",
   "execution_count": 13,
   "metadata": {},
   "outputs": [
    {
     "name": "stderr",
     "output_type": "stream",
     "text": [
      "/home/kartik/.local/lib/python3.6/site-packages/ipykernel_launcher.py:2: DataConversionWarning: A column-vector y was passed when a 1d array was expected. Please change the shape of y to (n_samples,), for example using ravel().\n",
      "  \n"
     ]
    },
    {
     "name": "stdout",
     "output_type": "stream",
     "text": [
      "Random Forest regressor results:\n",
      "Training MSE: 51.265563937158916\n",
      "Validation MSE: 84.40890408514252\n"
     ]
    }
   ],
   "source": [
    "model=RandomForestRegressor( bootstrap=False, max_features=0.7000000000000001, min_samples_leaf=10, min_samples_split=9, n_estimators=100)\n",
    "model.fit(X_train,Y_train)\n",
    "#prediction=model.predict(X_validation)\n",
    "print(\"Random Forest regressor results:\")\n",
    "print(\"Training MSE: {}\".format(mean_squared_error(model.predict(X_train),Y_train)))\n",
    "print(\"Validation MSE: {}\".format(mean_squared_error(model.predict(X_validation),Y_validation)))"
   ]
  },
  {
   "cell_type": "code",
   "execution_count": 14,
   "metadata": {},
   "outputs": [
    {
     "name": "stderr",
     "output_type": "stream",
     "text": [
      "Using TensorFlow backend.\n",
      "/home/kartik/.local/lib/python3.6/site-packages/tensorflow/python/framework/dtypes.py:516: FutureWarning: Passing (type, 1) or '1type' as a synonym of type is deprecated; in a future version of numpy, it will be understood as (type, (1,)) / '(1,)type'.\n",
      "  _np_qint8 = np.dtype([(\"qint8\", np.int8, 1)])\n",
      "/home/kartik/.local/lib/python3.6/site-packages/tensorflow/python/framework/dtypes.py:517: FutureWarning: Passing (type, 1) or '1type' as a synonym of type is deprecated; in a future version of numpy, it will be understood as (type, (1,)) / '(1,)type'.\n",
      "  _np_quint8 = np.dtype([(\"quint8\", np.uint8, 1)])\n",
      "/home/kartik/.local/lib/python3.6/site-packages/tensorflow/python/framework/dtypes.py:518: FutureWarning: Passing (type, 1) or '1type' as a synonym of type is deprecated; in a future version of numpy, it will be understood as (type, (1,)) / '(1,)type'.\n",
      "  _np_qint16 = np.dtype([(\"qint16\", np.int16, 1)])\n",
      "/home/kartik/.local/lib/python3.6/site-packages/tensorflow/python/framework/dtypes.py:519: FutureWarning: Passing (type, 1) or '1type' as a synonym of type is deprecated; in a future version of numpy, it will be understood as (type, (1,)) / '(1,)type'.\n",
      "  _np_quint16 = np.dtype([(\"quint16\", np.uint16, 1)])\n",
      "/home/kartik/.local/lib/python3.6/site-packages/tensorflow/python/framework/dtypes.py:520: FutureWarning: Passing (type, 1) or '1type' as a synonym of type is deprecated; in a future version of numpy, it will be understood as (type, (1,)) / '(1,)type'.\n",
      "  _np_qint32 = np.dtype([(\"qint32\", np.int32, 1)])\n",
      "/home/kartik/.local/lib/python3.6/site-packages/tensorflow/python/framework/dtypes.py:525: FutureWarning: Passing (type, 1) or '1type' as a synonym of type is deprecated; in a future version of numpy, it will be understood as (type, (1,)) / '(1,)type'.\n",
      "  np_resource = np.dtype([(\"resource\", np.ubyte, 1)])\n",
      "/home/kartik/.local/lib/python3.6/site-packages/tensorboard/compat/tensorflow_stub/dtypes.py:541: FutureWarning: Passing (type, 1) or '1type' as a synonym of type is deprecated; in a future version of numpy, it will be understood as (type, (1,)) / '(1,)type'.\n",
      "  _np_qint8 = np.dtype([(\"qint8\", np.int8, 1)])\n",
      "/home/kartik/.local/lib/python3.6/site-packages/tensorboard/compat/tensorflow_stub/dtypes.py:542: FutureWarning: Passing (type, 1) or '1type' as a synonym of type is deprecated; in a future version of numpy, it will be understood as (type, (1,)) / '(1,)type'.\n",
      "  _np_quint8 = np.dtype([(\"quint8\", np.uint8, 1)])\n",
      "/home/kartik/.local/lib/python3.6/site-packages/tensorboard/compat/tensorflow_stub/dtypes.py:543: FutureWarning: Passing (type, 1) or '1type' as a synonym of type is deprecated; in a future version of numpy, it will be understood as (type, (1,)) / '(1,)type'.\n",
      "  _np_qint16 = np.dtype([(\"qint16\", np.int16, 1)])\n",
      "/home/kartik/.local/lib/python3.6/site-packages/tensorboard/compat/tensorflow_stub/dtypes.py:544: FutureWarning: Passing (type, 1) or '1type' as a synonym of type is deprecated; in a future version of numpy, it will be understood as (type, (1,)) / '(1,)type'.\n",
      "  _np_quint16 = np.dtype([(\"quint16\", np.uint16, 1)])\n",
      "/home/kartik/.local/lib/python3.6/site-packages/tensorboard/compat/tensorflow_stub/dtypes.py:545: FutureWarning: Passing (type, 1) or '1type' as a synonym of type is deprecated; in a future version of numpy, it will be understood as (type, (1,)) / '(1,)type'.\n",
      "  _np_qint32 = np.dtype([(\"qint32\", np.int32, 1)])\n",
      "/home/kartik/.local/lib/python3.6/site-packages/tensorboard/compat/tensorflow_stub/dtypes.py:550: FutureWarning: Passing (type, 1) or '1type' as a synonym of type is deprecated; in a future version of numpy, it will be understood as (type, (1,)) / '(1,)type'.\n",
      "  np_resource = np.dtype([(\"resource\", np.ubyte, 1)])\n"
     ]
    },
    {
     "name": "stdout",
     "output_type": "stream",
     "text": [
      "Model: \"sequential_1\"\n",
      "_________________________________________________________________\n",
      "Layer (type)                 Output Shape              Param #   \n",
      "=================================================================\n",
      "dense_1 (Dense)              (None, 128)               14976     \n",
      "_________________________________________________________________\n",
      "dropout_1 (Dropout)          (None, 128)               0         \n",
      "_________________________________________________________________\n",
      "dense_2 (Dense)              (None, 64)                8256      \n",
      "_________________________________________________________________\n",
      "dense_3 (Dense)              (None, 1)                 65        \n",
      "=================================================================\n",
      "Total params: 23,297\n",
      "Trainable params: 23,297\n",
      "Non-trainable params: 0\n",
      "_________________________________________________________________\n",
      "None\n"
     ]
    }
   ],
   "source": [
    "# Multilayer Perceptron\n",
    "#from keras.utils import plot_model\n",
    "from keras.models import Sequential\n",
    "from keras.layers import Input\n",
    "from keras.layers import Dense, Dropout\n",
    "model=Sequential()\n",
    "model.add(Dense(128,input_shape=(116,),activation='relu'))\n",
    "model.add(Dropout(.3))\n",
    "model.add(Dense(64,activation='relu'))\n",
    "model.add(Dense(1))\n",
    "# summarize layers\n",
    "print(model.summary())\n",
    "# plot graph\n",
    "#plot_model(model)"
   ]
  },
  {
   "cell_type": "code",
   "execution_count": 15,
   "metadata": {},
   "outputs": [
    {
     "name": "stdout",
     "output_type": "stream",
     "text": [
      "WARNING:tensorflow:From /home/kartik/.local/lib/python3.6/site-packages/keras/backend/tensorflow_backend.py:422: The name tf.global_variables is deprecated. Please use tf.compat.v1.global_variables instead.\n",
      "\n",
      "Train on 8571 samples, validate on 2143 samples\n",
      "Epoch 1/100\n",
      "8571/8571 [==============================] - 0s 52us/step - loss: 532.4483 - mse: 532.4482 - val_loss: 80.5527 - val_mse: 80.5527\n",
      "Epoch 2/100\n",
      "8571/8571 [==============================] - 0s 19us/step - loss: 101.5254 - mse: 101.5254 - val_loss: 79.3227 - val_mse: 79.3227\n",
      "Epoch 3/100\n",
      "8571/8571 [==============================] - 0s 21us/step - loss: 100.4494 - mse: 100.4495 - val_loss: 78.7776 - val_mse: 78.7776\n",
      "Epoch 4/100\n",
      "8571/8571 [==============================] - 0s 20us/step - loss: 99.1361 - mse: 99.1361 - val_loss: 86.5240 - val_mse: 86.5241\n",
      "Epoch 5/100\n",
      "8571/8571 [==============================] - 0s 19us/step - loss: 99.2042 - mse: 99.2042 - val_loss: 80.2149 - val_mse: 80.2149\n",
      "Epoch 6/100\n",
      "8571/8571 [==============================] - 0s 19us/step - loss: 100.4033 - mse: 100.4033 - val_loss: 82.2531 - val_mse: 82.2531\n",
      "Epoch 7/100\n",
      "8571/8571 [==============================] - 0s 20us/step - loss: 96.7448 - mse: 96.7448 - val_loss: 78.0392 - val_mse: 78.0392\n",
      "Epoch 8/100\n",
      "8571/8571 [==============================] - 0s 22us/step - loss: 97.7728 - mse: 97.7728 - val_loss: 85.1719 - val_mse: 85.1719\n",
      "Epoch 9/100\n",
      "8571/8571 [==============================] - 0s 22us/step - loss: 96.9487 - mse: 96.9487 - val_loss: 78.7656 - val_mse: 78.7656\n",
      "Epoch 10/100\n",
      "8571/8571 [==============================] - 0s 22us/step - loss: 96.1037 - mse: 96.1037 - val_loss: 78.2559 - val_mse: 78.2559\n",
      "Epoch 11/100\n",
      "8571/8571 [==============================] - 0s 22us/step - loss: 95.3143 - mse: 95.3143 - val_loss: 82.1680 - val_mse: 82.1680\n",
      "Epoch 12/100\n",
      "8571/8571 [==============================] - 0s 20us/step - loss: 95.1771 - mse: 95.1771 - val_loss: 77.5566 - val_mse: 77.5565\n",
      "Epoch 13/100\n",
      "8571/8571 [==============================] - 0s 19us/step - loss: 95.2183 - mse: 95.2183 - val_loss: 77.9446 - val_mse: 77.9446\n",
      "Epoch 14/100\n",
      "8571/8571 [==============================] - 0s 21us/step - loss: 94.2272 - mse: 94.2272 - val_loss: 79.6287 - val_mse: 79.6287\n",
      "Epoch 15/100\n",
      "8571/8571 [==============================] - 0s 22us/step - loss: 94.9551 - mse: 94.9551 - val_loss: 77.9075 - val_mse: 77.9075\n",
      "Epoch 16/100\n",
      "8571/8571 [==============================] - 0s 20us/step - loss: 91.5633 - mse: 91.5633 - val_loss: 78.4522 - val_mse: 78.4522\n",
      "Epoch 17/100\n",
      "8571/8571 [==============================] - 0s 20us/step - loss: 92.1629 - mse: 92.1629 - val_loss: 81.4519 - val_mse: 81.4519\n",
      "Epoch 18/100\n",
      "8571/8571 [==============================] - 0s 21us/step - loss: 91.5674 - mse: 91.5674 - val_loss: 83.8847 - val_mse: 83.8847\n",
      "Epoch 19/100\n",
      "8571/8571 [==============================] - 0s 22us/step - loss: 91.6896 - mse: 91.6896 - val_loss: 78.2450 - val_mse: 78.2450\n",
      "Epoch 20/100\n",
      "8571/8571 [==============================] - 0s 22us/step - loss: 90.8080 - mse: 90.8080 - val_loss: 79.4259 - val_mse: 79.4259\n",
      "Epoch 21/100\n",
      "8571/8571 [==============================] - 0s 19us/step - loss: 91.4973 - mse: 91.4973 - val_loss: 78.7489 - val_mse: 78.7489\n",
      "Epoch 22/100\n",
      "8571/8571 [==============================] - 0s 20us/step - loss: 88.2454 - mse: 88.2455 - val_loss: 80.7529 - val_mse: 80.7529\n",
      "Epoch 23/100\n",
      "8571/8571 [==============================] - 0s 21us/step - loss: 89.6515 - mse: 89.6515 - val_loss: 81.1616 - val_mse: 81.1616\n",
      "Epoch 24/100\n",
      "8571/8571 [==============================] - 0s 19us/step - loss: 88.1332 - mse: 88.1332 - val_loss: 78.4622 - val_mse: 78.4622\n",
      "Epoch 25/100\n",
      "8571/8571 [==============================] - 0s 21us/step - loss: 88.3819 - mse: 88.3820 - val_loss: 79.0688 - val_mse: 79.0688\n",
      "Epoch 26/100\n",
      "8571/8571 [==============================] - 0s 21us/step - loss: 88.6508 - mse: 88.6508 - val_loss: 78.8273 - val_mse: 78.8273\n",
      "Epoch 27/100\n",
      "8571/8571 [==============================] - 0s 21us/step - loss: 86.8342 - mse: 86.8342 - val_loss: 78.6647 - val_mse: 78.6647\n",
      "Epoch 28/100\n",
      "8571/8571 [==============================] - 0s 20us/step - loss: 87.5599 - mse: 87.5600 - val_loss: 79.2175 - val_mse: 79.2175\n",
      "Epoch 29/100\n",
      "8571/8571 [==============================] - 0s 20us/step - loss: 85.9608 - mse: 85.9608 - val_loss: 79.0315 - val_mse: 79.0315\n",
      "Epoch 30/100\n",
      "8571/8571 [==============================] - 0s 20us/step - loss: 85.9184 - mse: 85.9184 - val_loss: 79.5618 - val_mse: 79.5618\n",
      "Epoch 31/100\n",
      "8571/8571 [==============================] - 0s 21us/step - loss: 86.0770 - mse: 86.0770 - val_loss: 80.9144 - val_mse: 80.9144\n",
      "Epoch 32/100\n",
      "8571/8571 [==============================] - 0s 19us/step - loss: 83.5608 - mse: 83.5607 - val_loss: 80.3071 - val_mse: 80.3071\n",
      "Epoch 33/100\n",
      "8571/8571 [==============================] - 0s 20us/step - loss: 84.5571 - mse: 84.5571 - val_loss: 86.8264 - val_mse: 86.8264\n",
      "Epoch 34/100\n",
      "8571/8571 [==============================] - 0s 21us/step - loss: 82.3123 - mse: 82.3123 - val_loss: 81.2034 - val_mse: 81.2034\n",
      "Epoch 35/100\n",
      "8571/8571 [==============================] - 0s 21us/step - loss: 82.6473 - mse: 82.6473 - val_loss: 81.4607 - val_mse: 81.4607\n",
      "Epoch 36/100\n",
      "8571/8571 [==============================] - 0s 21us/step - loss: 82.4191 - mse: 82.4191 - val_loss: 81.8063 - val_mse: 81.8063\n",
      "Epoch 37/100\n",
      "8571/8571 [==============================] - 0s 18us/step - loss: 81.8899 - mse: 81.8899 - val_loss: 82.4176 - val_mse: 82.4176\n",
      "Epoch 38/100\n",
      "8571/8571 [==============================] - 0s 18us/step - loss: 80.0864 - mse: 80.0864 - val_loss: 82.3438 - val_mse: 82.3438\n",
      "Epoch 39/100\n",
      "8571/8571 [==============================] - 0s 18us/step - loss: 80.7491 - mse: 80.7492 - val_loss: 82.0434 - val_mse: 82.0434\n",
      "Epoch 40/100\n",
      "8571/8571 [==============================] - 0s 18us/step - loss: 80.5102 - mse: 80.5102 - val_loss: 82.2572 - val_mse: 82.2572\n",
      "Epoch 41/100\n",
      "8571/8571 [==============================] - 0s 19us/step - loss: 78.8811 - mse: 78.8811 - val_loss: 82.3869 - val_mse: 82.3869\n",
      "Epoch 42/100\n",
      "8571/8571 [==============================] - 0s 18us/step - loss: 78.5088 - mse: 78.5088 - val_loss: 81.5769 - val_mse: 81.5769\n",
      "Epoch 43/100\n",
      "8571/8571 [==============================] - 0s 19us/step - loss: 77.3686 - mse: 77.3686 - val_loss: 81.7914 - val_mse: 81.7914\n",
      "Epoch 44/100\n",
      "8571/8571 [==============================] - 0s 26us/step - loss: 78.3279 - mse: 78.3279 - val_loss: 82.1922 - val_mse: 82.1922\n",
      "Epoch 45/100\n",
      "8571/8571 [==============================] - 0s 25us/step - loss: 76.1592 - mse: 76.1592 - val_loss: 83.3632 - val_mse: 83.3632\n",
      "Epoch 46/100\n",
      "8571/8571 [==============================] - 0s 25us/step - loss: 76.2043 - mse: 76.2043 - val_loss: 85.7245 - val_mse: 85.7245\n",
      "Epoch 47/100\n",
      "8571/8571 [==============================] - 0s 24us/step - loss: 74.3838 - mse: 74.3838 - val_loss: 82.4997 - val_mse: 82.4997\n",
      "Epoch 48/100\n",
      "8571/8571 [==============================] - 0s 30us/step - loss: 76.5531 - mse: 76.5532 - val_loss: 83.2774 - val_mse: 83.2774\n",
      "Epoch 49/100\n",
      "8571/8571 [==============================] - 0s 23us/step - loss: 74.5950 - mse: 74.5950 - val_loss: 82.3509 - val_mse: 82.3509\n",
      "Epoch 50/100\n",
      "8571/8571 [==============================] - 0s 18us/step - loss: 76.0421 - mse: 76.0421 - val_loss: 83.7637 - val_mse: 83.7637\n",
      "Epoch 51/100\n",
      "8571/8571 [==============================] - 0s 19us/step - loss: 73.5326 - mse: 73.5326 - val_loss: 83.2844 - val_mse: 83.2844\n",
      "Epoch 52/100\n",
      "8571/8571 [==============================] - 0s 18us/step - loss: 72.4729 - mse: 72.4729 - val_loss: 82.4270 - val_mse: 82.4270\n",
      "Epoch 53/100\n",
      "8571/8571 [==============================] - 0s 19us/step - loss: 73.6427 - mse: 73.6427 - val_loss: 82.1034 - val_mse: 82.1034\n",
      "Epoch 54/100\n",
      "8571/8571 [==============================] - 0s 28us/step - loss: 74.0715 - mse: 74.0715 - val_loss: 83.8679 - val_mse: 83.8679\n",
      "Epoch 55/100\n",
      "8571/8571 [==============================] - 0s 24us/step - loss: 73.0061 - mse: 73.0061 - val_loss: 83.4110 - val_mse: 83.4109\n",
      "Epoch 56/100\n",
      "8571/8571 [==============================] - 0s 28us/step - loss: 71.5008 - mse: 71.5008 - val_loss: 82.7973 - val_mse: 82.7973\n",
      "Epoch 57/100\n"
     ]
    },
    {
     "name": "stdout",
     "output_type": "stream",
     "text": [
      "8571/8571 [==============================] - 0s 21us/step - loss: 71.3101 - mse: 71.3101 - val_loss: 83.7077 - val_mse: 83.7077\n",
      "Epoch 58/100\n",
      "8571/8571 [==============================] - 0s 31us/step - loss: 70.1187 - mse: 70.1187 - val_loss: 83.0581 - val_mse: 83.0581\n",
      "Epoch 59/100\n",
      "8571/8571 [==============================] - 0s 36us/step - loss: 72.1080 - mse: 72.1080 - val_loss: 83.1021 - val_mse: 83.1021\n",
      "Epoch 60/100\n",
      "8571/8571 [==============================] - 0s 29us/step - loss: 70.5642 - mse: 70.5642 - val_loss: 89.8097 - val_mse: 89.8096\n",
      "Epoch 61/100\n",
      "8571/8571 [==============================] - 0s 22us/step - loss: 67.7977 - mse: 67.7977 - val_loss: 85.9035 - val_mse: 85.9035\n",
      "Epoch 62/100\n",
      "8571/8571 [==============================] - 0s 30us/step - loss: 67.7821 - mse: 67.7821 - val_loss: 87.2896 - val_mse: 87.2896\n",
      "Epoch 63/100\n",
      "8571/8571 [==============================] - 0s 25us/step - loss: 67.3166 - mse: 67.3166 - val_loss: 85.5760 - val_mse: 85.5760\n",
      "Epoch 64/100\n",
      "8571/8571 [==============================] - 0s 25us/step - loss: 65.9515 - mse: 65.9515 - val_loss: 87.2343 - val_mse: 87.2343\n",
      "Epoch 65/100\n",
      "8571/8571 [==============================] - 0s 21us/step - loss: 66.2399 - mse: 66.2399 - val_loss: 84.1158 - val_mse: 84.1158\n",
      "Epoch 66/100\n",
      "8571/8571 [==============================] - 0s 29us/step - loss: 66.6028 - mse: 66.6028 - val_loss: 85.5476 - val_mse: 85.5476\n",
      "Epoch 67/100\n",
      "8571/8571 [==============================] - 0s 25us/step - loss: 66.5041 - mse: 66.5041 - val_loss: 90.9680 - val_mse: 90.9680\n",
      "Epoch 68/100\n",
      "8571/8571 [==============================] - 0s 21us/step - loss: 65.4188 - mse: 65.4188 - val_loss: 85.4191 - val_mse: 85.4191\n",
      "Epoch 69/100\n",
      "8571/8571 [==============================] - 0s 21us/step - loss: 63.9360 - mse: 63.9360 - val_loss: 84.0555 - val_mse: 84.0555\n",
      "Epoch 70/100\n",
      "8571/8571 [==============================] - 0s 24us/step - loss: 64.8366 - mse: 64.8366 - val_loss: 84.2404 - val_mse: 84.2404\n",
      "Epoch 71/100\n",
      "8571/8571 [==============================] - 0s 21us/step - loss: 63.1594 - mse: 63.1594 - val_loss: 85.9954 - val_mse: 85.9954\n",
      "Epoch 72/100\n",
      "8571/8571 [==============================] - 0s 19us/step - loss: 64.4115 - mse: 64.4115 - val_loss: 95.1085 - val_mse: 95.1085\n",
      "Epoch 73/100\n",
      "8571/8571 [==============================] - 0s 18us/step - loss: 63.6228 - mse: 63.6228 - val_loss: 85.1564 - val_mse: 85.1564\n",
      "Epoch 74/100\n",
      "8571/8571 [==============================] - 0s 24us/step - loss: 63.0840 - mse: 63.0840 - val_loss: 84.3875 - val_mse: 84.3876\n",
      "Epoch 75/100\n",
      "8571/8571 [==============================] - 0s 18us/step - loss: 61.3975 - mse: 61.3975 - val_loss: 86.5022 - val_mse: 86.5022\n",
      "Epoch 76/100\n",
      "8571/8571 [==============================] - 0s 26us/step - loss: 60.3018 - mse: 60.3019 - val_loss: 85.4698 - val_mse: 85.4698\n",
      "Epoch 77/100\n",
      "8571/8571 [==============================] - 0s 20us/step - loss: 63.5990 - mse: 63.5990 - val_loss: 84.5508 - val_mse: 84.5508\n",
      "Epoch 78/100\n",
      "8571/8571 [==============================] - 0s 18us/step - loss: 61.2450 - mse: 61.2450 - val_loss: 88.7912 - val_mse: 88.7911\n",
      "Epoch 79/100\n",
      "8571/8571 [==============================] - 0s 22us/step - loss: 61.0780 - mse: 61.0780 - val_loss: 86.4253 - val_mse: 86.4253\n",
      "Epoch 80/100\n",
      "8571/8571 [==============================] - 0s 22us/step - loss: 61.9540 - mse: 61.9540 - val_loss: 90.6885 - val_mse: 90.6885\n",
      "Epoch 81/100\n",
      "8571/8571 [==============================] - 0s 25us/step - loss: 62.6629 - mse: 62.6629 - val_loss: 92.4565 - val_mse: 92.4566\n",
      "Epoch 82/100\n",
      "8571/8571 [==============================] - 0s 19us/step - loss: 60.3949 - mse: 60.3949 - val_loss: 83.8743 - val_mse: 83.8743\n",
      "Epoch 83/100\n",
      "8571/8571 [==============================] - 0s 29us/step - loss: 59.6820 - mse: 59.6820 - val_loss: 86.8338 - val_mse: 86.8338\n",
      "Epoch 84/100\n",
      "8571/8571 [==============================] - 0s 26us/step - loss: 56.8917 - mse: 56.8917 - val_loss: 86.0148 - val_mse: 86.0148\n",
      "Epoch 85/100\n",
      "8571/8571 [==============================] - 0s 27us/step - loss: 60.8602 - mse: 60.8602 - val_loss: 83.7719 - val_mse: 83.7719\n",
      "Epoch 86/100\n",
      "8571/8571 [==============================] - 0s 28us/step - loss: 58.8977 - mse: 58.8977 - val_loss: 84.9799 - val_mse: 84.9799\n",
      "Epoch 87/100\n",
      "8571/8571 [==============================] - 0s 23us/step - loss: 59.7379 - mse: 59.7379 - val_loss: 86.4358 - val_mse: 86.4358\n",
      "Epoch 88/100\n",
      "8571/8571 [==============================] - 0s 27us/step - loss: 57.2627 - mse: 57.2627 - val_loss: 85.8792 - val_mse: 85.8792\n",
      "Epoch 89/100\n",
      "8571/8571 [==============================] - 0s 27us/step - loss: 58.3194 - mse: 58.3194 - val_loss: 88.3418 - val_mse: 88.3419\n",
      "Epoch 90/100\n",
      "8571/8571 [==============================] - 0s 26us/step - loss: 58.4238 - mse: 58.4238 - val_loss: 89.7997 - val_mse: 89.7997\n",
      "Epoch 91/100\n",
      "8571/8571 [==============================] - 0s 24us/step - loss: 54.7352 - mse: 54.7352 - val_loss: 87.8413 - val_mse: 87.8412\n",
      "Epoch 92/100\n",
      "8571/8571 [==============================] - 0s 22us/step - loss: 57.0477 - mse: 57.0477 - val_loss: 90.2536 - val_mse: 90.2536\n",
      "Epoch 93/100\n",
      "8571/8571 [==============================] - 0s 22us/step - loss: 55.3591 - mse: 55.3591 - val_loss: 87.3656 - val_mse: 87.3656\n",
      "Epoch 94/100\n",
      "8571/8571 [==============================] - 0s 28us/step - loss: 59.0870 - mse: 59.0870 - val_loss: 91.3892 - val_mse: 91.3892\n",
      "Epoch 95/100\n",
      "8571/8571 [==============================] - 0s 22us/step - loss: 55.6992 - mse: 55.6992 - val_loss: 94.0102 - val_mse: 94.0102\n",
      "Epoch 96/100\n",
      "8571/8571 [==============================] - 0s 22us/step - loss: 54.5737 - mse: 54.5737 - val_loss: 98.1196 - val_mse: 98.1196\n",
      "Epoch 97/100\n",
      "8571/8571 [==============================] - 0s 22us/step - loss: 54.4233 - mse: 54.4233 - val_loss: 86.2702 - val_mse: 86.2702\n",
      "Epoch 98/100\n",
      "8571/8571 [==============================] - 0s 21us/step - loss: 54.5298 - mse: 54.5298 - val_loss: 88.9624 - val_mse: 88.9624\n",
      "Epoch 99/100\n",
      "8571/8571 [==============================] - 0s 27us/step - loss: 55.1270 - mse: 55.1270 - val_loss: 88.2484 - val_mse: 88.2484\n",
      "Epoch 100/100\n",
      "8571/8571 [==============================] - 0s 25us/step - loss: 53.6494 - mse: 53.6494 - val_loss: 92.4341 - val_mse: 92.4341\n"
     ]
    },
    {
     "data": {
      "image/png": "[encoded data removed]",
      "text/plain": [
       "<Figure size 432x288 with 1 Axes>"
      ]
     },
     "metadata": {
      "needs_background": "light"
     },
     "output_type": "display_data"
    }
   ],
   "source": [
    "model.compile('rmsprop', loss='mse', metrics=['mse'])\n",
    "history=model.fit(X_train,Y_train,batch_size=64,epochs=100,validation_data=(X_validation,Y_validation))\n",
    "plt.plot(history.history['val_loss'][20:],label='Validation loss')\n",
    "plt.plot(history.history['loss'][20:],label='Training loss')\n",
    "plt.show()"
   ]
  },
  {
   "cell_type": "markdown",
   "metadata": {},
   "source": [
    "## Conclusion-\n",
    "Out of all the different ML and DL algorithms used so far random forest gives best fit and generalization. Use of genetic algorithms and random search in hyper parameter space gave better generalization as compared to simple linear model.\n"
   ]
  },
  {
   "cell_type": "code",
   "execution_count": 16,
   "metadata": {},
   "outputs": [
    {
     "name": "stderr",
     "output_type": "stream",
     "text": [
      "/home/kartik/.local/lib/python3.6/site-packages/ipykernel_launcher.py:3: DataConversionWarning: A column-vector y was passed when a 1d array was expected. Please change the shape of y to (n_samples,), for example using ravel().\n",
      "  This is separate from the ipykernel package so we can avoid doing imports until\n"
     ]
    },
    {
     "name": "stdout",
     "output_type": "stream",
     "text": [
      "Random Forest regressor results:\n",
      "Training MSE: 81.46479872974199\n",
      "Validation MSE: 76.83451814751668\n"
     ]
    }
   ],
   "source": [
    "#Optimized Random forest regressor\n",
    "model= RandomForestRegressor(n_estimators=100,max_depth=4)\n",
    "model.fit(X_train,Y_train)\n",
    "#prediction=model.predict(X_validation)\n",
    "print(\"Random Forest regressor results:\")\n",
    "print(\"Training MSE: {}\".format(mean_squared_error(model.predict(X_train),Y_train)))\n",
    "print(\"Validation MSE: {}\".format(mean_squared_error(model.predict(X_validation),Y_validation)))"
   ]
  },
  {
   "cell_type": "markdown",
   "metadata": {},
   "source": [
    "As can be seen MSE on validation dataset is smaller as compared to training dataset and MSE obtained is smaller as compared to linear regression, xgboost, multilayer perceptron."
   ]
  },
  {
   "cell_type": "markdown",
   "metadata": {},
   "source": [
    "## Predictions"
   ]
  },
  {
   "cell_type": "code",
   "execution_count": 17,
   "metadata": {},
   "outputs": [
    {
     "name": "stderr",
     "output_type": "stream",
     "text": [
      "/home/kartik/.local/lib/python3.6/site-packages/ipykernel_launcher.py:3: DataConversionWarning: A column-vector y was passed when a 1d array was expected. Please change the shape of y to (n_samples,), for example using ravel().\n",
      "  This is separate from the ipykernel package so we can avoid doing imports until\n"
     ]
    }
   ],
   "source": [
    "#Optimized Random forest regressor\n",
    "model= RandomForestRegressor(n_estimators=100,max_depth=4)\n",
    "model.fit(X,Y)\n",
    "prediction=model.predict(X_test)\n",
    "submission=pd.concat([pd.DataFrame(test_id,columns=['people_ID']),pd.DataFrame(prediction,columns=['infect_prob'])],axis=1)\n",
    "#prediction=model.predict(X_validation)\n",
    "#print(\"Random Forest regressor results:\")\n",
    "#print(\"Training MSE: {}\".format(mean_squared_error(model.predict(X_train),Y_train)))\n",
    "#print(\"Validation MSE: {}\".format(mean_squared_error(model.predict(X_validation),Y_validation)))"
   ]
  },
  {
   "cell_type": "code",
   "execution_count": 18,
   "metadata": {},
   "outputs": [],
   "source": [
    "submission.to_csv('submission-part2.csv',index=False)"
   ]
  },
  {
   "cell_type": "code",
   "execution_count": null,
   "metadata": {},
   "outputs": [],
   "source": []
  }
 ],
 "metadata": {
  "kernelspec": {
   "display_name": "Python 3",
   "language": "python",
   "name": "python3"
  },
  "language_info": {
   "codemirror_mode": {
    "name": "ipython",
    "version": 3
   },
   "file_extension": ".py",
   "mimetype": "text/x-python",
   "name": "python",
   "nbconvert_exporter": "python",
   "pygments_lexer": "ipython3",
   "version": "3.6.9"
  }
 },
 "nbformat": 4,
 "nbformat_minor": 4
}
