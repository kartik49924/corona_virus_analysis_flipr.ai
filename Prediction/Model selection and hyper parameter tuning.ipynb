{
 "cells": [
  {
   "cell_type": "code",
   "execution_count": 61,
   "metadata": {},
   "outputs": [],
   "source": [
    "import pandas as pd\n",
    "import matplotlib.pyplot as plt\n",
    "import xgboost as xgb\n",
    "import numpy as np\n",
    "import seaborn as sns\n",
    "from sklearn.linear_model import LinearRegression\n",
    "from sklearn.model_selection import train_test_split\n",
    "from sklearn.ensemble import RandomForestRegressor\n",
    "from sklearn.metrics import mean_squared_error\n",
    "from sklearn.model_selection import KFold\n",
    "from sklearn.model_selection import cross_val_score\n",
    "from sklearn.model_selection import GridSearchCV\n",
    "from sklearn.linear_model import LinearRegression\n",
    "from sklearn.linear_model import Lasso\n",
    "from sklearn.linear_model import ElasticNet\n",
    "from sklearn.pipeline import Pipeline\n",
    "from sklearn.metrics import mean_squared_error\n",
    "from sklearn.ensemble import GradientBoostingRegressor\n",
    "from scipy.stats import uniform"
   ]
  },
  {
   "cell_type": "code",
   "execution_count": 74,
   "metadata": {},
   "outputs": [],
   "source": [
    "##Importing data\n",
    "train_feats=pd.read_csv('train_features.csv')\n",
    "target=pd.read_csv('infection_probablity.csv')\n",
    "test_feats=pd.read_csv('test_features.csv')\n",
    "test_id=pd.read_csv('test_id.csv')"
   ]
  },
  {
   "cell_type": "code",
   "execution_count": 73,
   "metadata": {},
   "outputs": [],
   "source": [
    "## Splitting dataset intro training and validation datasets\n",
    "X=train_feats.values\n",
    "Y=target.values\n",
    "validation_size=.2\n",
    "seed=7\n",
    "X_test=test_feats.values\n",
    "X_train, X_validation, Y_train, Y_validation = train_test_split(X, Y,\n",
    "test_size=validation_size, random_state=seed)"
   ]
  },
  {
   "cell_type": "markdown",
   "metadata": {},
   "source": [
    "## Simple linear models\n"
   ]
  },
  {
   "cell_type": "code",
   "execution_count": 64,
   "metadata": {
    "scrolled": true
   },
   "outputs": [
    {
     "name": "stderr",
     "output_type": "stream",
     "text": [
      "/home/kartik/.local/lib/python3.6/site-packages/sklearn/model_selection/_split.py:296: FutureWarning: Setting a random_state has no effect since shuffle is False. This will raise an error in 0.24. You should leave random_state to its default (None), or set shuffle=True.\n",
      "  FutureWarning\n"
     ]
    },
    {
     "name": "stdout",
     "output_type": "stream",
     "text": [
      " LR : -86.402703 (4.225850)\n",
      " LASSO : -96.598131 (4.297886)\n",
      " EN : -99.174137 (4.402426)\n"
     ]
    },
    {
     "name": "stderr",
     "output_type": "stream",
     "text": [
      "/home/kartik/.local/lib/python3.6/site-packages/sklearn/model_selection/_split.py:296: FutureWarning: Setting a random_state has no effect since shuffle is False. This will raise an error in 0.24. You should leave random_state to its default (None), or set shuffle=True.\n",
      "  FutureWarning\n",
      "/home/kartik/.local/lib/python3.6/site-packages/sklearn/model_selection/_split.py:296: FutureWarning: Setting a random_state has no effect since shuffle is False. This will raise an error in 0.24. You should leave random_state to its default (None), or set shuffle=True.\n",
      "  FutureWarning\n"
     ]
    }
   ],
   "source": [
    "models = []\n",
    "models.append(( ' LR ' , LinearRegression()))\n",
    "models.append(( ' LASSO ' , Lasso()))\n",
    "models.append(( ' EN ' , ElasticNet()))\n",
    "scoring='neg_mean_squared_error'\n",
    "results = []\n",
    "names = []\n",
    "for name, model in models:\n",
    "    kfold = KFold(n_splits=5, random_state=seed)\n",
    "    cv_results = cross_val_score(model, X_train, Y_train, cv=kfold, scoring=scoring)\n",
    "    results.append(cv_results)\n",
    "    names.append(name)\n",
    "    msg = \"%s: %f (%f)\" % (name, cv_results.mean(), cv_results.std())\n",
    "    print(msg)"
   ]
  },
  {
   "cell_type": "code",
   "execution_count": 65,
   "metadata": {
    "scrolled": true
   },
   "outputs": [
    {
     "name": "stdout",
     "output_type": "stream",
     "text": [
      "Linear Regrssion results:\n",
      "Training MSE: 84.18114454875732\n",
      "Validation MSE: 80.53279612616788\n"
     ]
    }
   ],
   "source": [
    "##Conclusion: Out of three, liner regression works best on training data let see its effectivness on validation data\n",
    "model= LinearRegression()\n",
    "model.fit(X_train,Y_train)\n",
    "#prediction=model.predict(X_validation)\n",
    "print(\"Linear Regrssion results:\")\n",
    "print(\"Training MSE: {}\".format(mean_squared_error(model.predict(X_train),Y_train)))\n",
    "print(\"Validation MSE: {}\".format(mean_squared_error(model.predict(X_validation),Y_validation)))"
   ]
  },
  {
   "cell_type": "markdown",
   "metadata": {},
   "source": [
    "## Ensemble methods"
   ]
  },
  {
   "cell_type": "code",
   "execution_count": 66,
   "metadata": {},
   "outputs": [
    {
     "name": "stderr",
     "output_type": "stream",
     "text": [
      "/home/kartik/.local/lib/python3.6/site-packages/ipykernel_launcher.py:3: DataConversionWarning: A column-vector y was passed when a 1d array was expected. Please change the shape of y to (n_samples,), for example using ravel().\n",
      "  This is separate from the ipykernel package so we can avoid doing imports until\n"
     ]
    },
    {
     "name": "stdout",
     "output_type": "stream",
     "text": [
      "Random Forest regressor results:\n",
      "Training MSE: 11.968776612066108\n",
      "Validation MSE: 80.23369476972651\n"
     ]
    }
   ],
   "source": [
    "#Cheking ensemble technique random forest.\n",
    "model= RandomForestRegressor()\n",
    "model.fit(X_train,Y_train)\n",
    "#prediction=model.predict(X_validation)\n",
    "print(\"Random Forest regressor results:\")\n",
    "print(\"Training MSE: {}\".format(mean_squared_error(model.predict(X_train),Y_train)))\n",
    "print(\"Validation MSE: {}\".format(mean_squared_error(model.predict(X_validation),Y_validation)))"
   ]
  },
  {
   "cell_type": "markdown",
   "metadata": {},
   "source": [
    "### Conclusion:\n",
    "It appears that random forest is quite overfitting on the data\n",
    "May be hyper parameter tuning can help in reducing overfitting.\n"
   ]
  },
  {
   "cell_type": "code",
   "execution_count": null,
   "metadata": {},
   "outputs": [],
   "source": [
    "from sklearn.model_selection import RandomizedSearchCV\n",
    "est=RandomForestRegressor(n_estimators=100)\n",
    "#est=GradientBoostingRegressor()\n",
    "param_grid = { 'max_depth':[2,3,4,5]}\n",
    "model = RandomizedSearchCV(estimator=est, param_distributions=param_grid, n_iter=100,\n",
    "random_state=7)\n",
    "model.fit(X_train, Y_train)\n",
    "\n",
    "print(\"Random Forest regressor results:\")\n",
    "print(\"Training MSE: {}\".format(mean_squared_error(model.predict(X_train),Y_train)))\n",
    "print(\"Validation MSE: {}\".format(mean_squared_error(model.predict(X_validation),Y_validation)))\n",
    "\n",
    "print(model.best_score_)\n",
    "print(model.best_estimator_)"
   ]
  },
  {
   "cell_type": "code",
   "execution_count": 67,
   "metadata": {},
   "outputs": [
    {
     "name": "stderr",
     "output_type": "stream",
     "text": [
      "/home/kartik/.local/lib/python3.6/site-packages/ipykernel_launcher.py:3: DataConversionWarning: A column-vector y was passed when a 1d array was expected. Please change the shape of y to (n_samples,), for example using ravel().\n",
      "  This is separate from the ipykernel package so we can avoid doing imports until\n"
     ]
    },
    {
     "name": "stdout",
     "output_type": "stream",
     "text": [
      "Random Forest regressor results:\n",
      "Training MSE: 80.8206871611731\n",
      "Validation MSE: 78.86360398628628\n"
     ]
    }
   ],
   "source": [
    "#Optimized Random forest regressor\n",
    "model= RandomForestRegressor(n_estimators=100,max_depth=4)\n",
    "model.fit(X_train,Y_train)\n",
    "#prediction=model.predict(X_validation)\n",
    "print(\"Random Forest regressor results:\")\n",
    "print(\"Training MSE: {}\".format(mean_squared_error(model.predict(X_train),Y_train)))\n",
    "print(\"Validation MSE: {}\".format(mean_squared_error(model.predict(X_validation),Y_validation)))"
   ]
  },
  {
   "cell_type": "markdown",
   "metadata": {},
   "source": [
    "## XgBoost"
   ]
  },
  {
   "cell_type": "code",
   "execution_count": 69,
   "metadata": {},
   "outputs": [],
   "source": [
    "from xgboost import plot_importance\n",
    "import xgboost as xgb"
   ]
  },
  {
   "cell_type": "code",
   "execution_count": 70,
   "metadata": {},
   "outputs": [
    {
     "name": "stdout",
     "output_type": "stream",
     "text": [
      "RMSE for xgboost: 143.77\n"
     ]
    },
    {
     "data": {
      "image/png": "[encoded data removed]",
      "text/plain": [
       "<Figure size 432x288 with 1 Axes>"
      ]
     },
     "metadata": {
      "needs_background": "light"
     },
     "output_type": "display_data"
    }
   ],
   "source": [
    "def rmse(a,b):\n",
    "    return np.mean((a-b)**2)\n",
    "\n",
    "params = {\n",
    "    'booster': 'gbtree',\n",
    "    'objective': 'reg:gamma',\n",
    "    'gamma': 0.1,\n",
    "    'max_depth': 4,\n",
    "    'lambda': 3,\n",
    "    'subsample': 0.7,\n",
    "    'colsample_bytree': 0.7,\n",
    "    'min_child_weight': 3,\n",
    "    'silent': 1,\n",
    "    'eta': 0.1,\n",
    "    'seed': 1000,\n",
    "    'nthread': 4,\n",
    "}\n",
    "\n",
    "plst = params.items()\n",
    "dtrain = xgb.DMatrix(X_train, Y_train)\n",
    "dtest = xgb.DMatrix(X_validation)\n",
    "num_rounds = 500\n",
    "xgb_model = xgb.train(plst, dtrain, num_rounds)\n",
    "yt_xgb = xgb_model.predict(dtest)\n",
    "rmse_xgb = rmse(Y_validation, yt_xgb)\n",
    "sns.regplot(Y_validation, yt_xgb)\n",
    "print(\"RMSE for xgboost: %.2f\" % rmse_xgb)"
   ]
  },
  {
   "cell_type": "code",
   "execution_count": 59,
   "metadata": {},
   "outputs": [],
   "source": [
    "from tpot import TPOTRegressor"
   ]
  },
  {
   "cell_type": "code",
   "execution_count": 60,
   "metadata": {},
   "outputs": [
    {
     "name": "stderr",
     "output_type": "stream",
     "text": [
      "/home/kartik/.local/lib/python3.6/site-packages/sklearn/utils/validation.py:760: DataConversionWarning: A column-vector y was passed when a 1d array was expected. Please change the shape of y to (n_samples, ), for example using ravel().\n",
      "  y = column_or_1d(y, warn=True)\n"
     ]
    },
    {
     "data": {
      "application/vnd.jupyter.widget-view+json": {
       "model_id": "1bf47b70b1cb40d18ef92c9b26b85605",
       "version_major": 2,
       "version_minor": 0
      },
      "text/plain": [
       "HBox(children=(FloatProgress(value=0.0, description='Optimization Progress', max=450.0, style=ProgressStyle(de…"
      ]
     },
     "metadata": {},
     "output_type": "display_data"
    },
    {
     "name": "stdout",
     "output_type": "stream",
     "text": [
      "Generation 1 - Current best internal CV score: -63.57068496684548\n",
      "Generation 2 - Current best internal CV score: -60.0749214164558\n",
      "Generation 3 - Current best internal CV score: -59.882464623957745\n",
      "Generation 4 - Current best internal CV score: -59.882464623957745\n",
      "Generation 5 - Current best internal CV score: -59.8698730196907\n",
      "Generation 6 - Current best internal CV score: -59.8698730196907\n",
      "Generation 7 - Current best internal CV score: -59.823303223429434\n",
      "Generation 8 - Current best internal CV score: -59.823303223429434\n",
      "\n",
      "Best pipeline: ExtraTreesRegressor(input_matrix, bootstrap=False, max_features=0.8, min_samples_leaf=10, min_samples_split=10, n_estimators=100)\n"
     ]
    },
    {
     "name": "stderr",
     "output_type": "stream",
     "text": [
      "/home/kartik/.local/lib/python3.6/site-packages/sklearn/utils/validation.py:760: DataConversionWarning: A column-vector y was passed when a 1d array was expected. Please change the shape of y to (n_samples, ), for example using ravel().\n",
      "  y = column_or_1d(y, warn=True)\n"
     ]
    },
    {
     "data": {
      "text/plain": [
       "-80.92977819103066"
      ]
     },
     "execution_count": 60,
     "metadata": {},
     "output_type": "execute_result"
    }
   ],
   "source": [
    "model = TPOTRegressor(generations=8, population_size=50, verbosity=2)\n",
    "model.fit(X_train[:100], Y_train[:100])\n",
    "model.score(X_validation, Y_validation)"
   ]
  },
  {
   "cell_type": "code",
   "execution_count": 9,
   "metadata": {},
   "outputs": [
    {
     "name": "stderr",
     "output_type": "stream",
     "text": [
      "/home/kartik/.local/lib/python3.6/site-packages/ipykernel_launcher.py:2: DataConversionWarning: A column-vector y was passed when a 1d array was expected. Please change the shape of y to (n_samples,), for example using ravel().\n",
      "  \n"
     ]
    },
    {
     "name": "stdout",
     "output_type": "stream",
     "text": [
      "Random Forest regressor results:\n",
      "Training MSE: 50.86758327075621\n",
      "Validation MSE: 83.3551685771411\n"
     ]
    }
   ],
   "source": [
    "model=RandomForestRegressor( bootstrap=False, max_features=0.7000000000000001, min_samples_leaf=10, min_samples_split=9, n_estimators=100)\n",
    "model.fit(X_train,Y_train)\n",
    "#prediction=model.predict(X_validation)\n",
    "print(\"Random Forest regressor results:\")\n",
    "print(\"Training MSE: {}\".format(mean_squared_error(model.predict(X_train),Y_train)))\n",
    "print(\"Validation MSE: {}\".format(mean_squared_error(model.predict(X_validation),Y_validation)))"
   ]
  },
  {
   "cell_type": "code",
   "execution_count": 55,
   "metadata": {},
   "outputs": [
    {
     "name": "stdout",
     "output_type": "stream",
     "text": [
      "Model: \"sequential_7\"\n",
      "_________________________________________________________________\n",
      "Layer (type)                 Output Shape              Param #   \n",
      "=================================================================\n",
      "dense_61 (Dense)             (None, 128)               14976     \n",
      "_________________________________________________________________\n",
      "dropout_3 (Dropout)          (None, 128)               0         \n",
      "_________________________________________________________________\n",
      "dense_62 (Dense)             (None, 64)                8256      \n",
      "_________________________________________________________________\n",
      "dense_63 (Dense)             (None, 1)                 65        \n",
      "=================================================================\n",
      "Total params: 23,297\n",
      "Trainable params: 23,297\n",
      "Non-trainable params: 0\n",
      "_________________________________________________________________\n",
      "None\n"
     ]
    }
   ],
   "source": [
    "# Multilayer Perceptron\n",
    "#from keras.utils import plot_model\n",
    "from keras.models import Sequential\n",
    "from keras.layers import Input\n",
    "from keras.layers import Dense, Dropout\n",
    "model=Sequential()\n",
    "model.add(Dense(128,input_shape=(116,),activation='relu'))\n",
    "model.add(Dropout(.3))\n",
    "model.add(Dense(64,activation='relu'))\n",
    "model.add(Dense(1))\n",
    "# summarize layers\n",
    "print(model.summary())\n",
    "# plot graph\n",
    "#plot_model(model)"
   ]
  },
  {
   "cell_type": "code",
   "execution_count": 56,
   "metadata": {},
   "outputs": [
    {
     "name": "stdout",
     "output_type": "stream",
     "text": [
      "Train on 8571 samples, validate on 2143 samples\n",
      "Epoch 1/100\n",
      "8571/8571 [==============================] - 1s 61us/step - loss: 502.0382 - mse: 502.0384 - val_loss: 82.7668 - val_mse: 82.7668\n",
      "Epoch 2/100\n",
      "8571/8571 [==============================] - 0s 34us/step - loss: 101.4477 - mse: 101.4477 - val_loss: 81.6215 - val_mse: 81.6215\n",
      "Epoch 3/100\n",
      "8571/8571 [==============================] - 0s 34us/step - loss: 100.1427 - mse: 100.1427 - val_loss: 82.5055 - val_mse: 82.5055\n",
      "Epoch 4/100\n",
      "8571/8571 [==============================] - 0s 34us/step - loss: 97.6541 - mse: 97.6541 - val_loss: 83.7054 - val_mse: 83.7054\n",
      "Epoch 5/100\n",
      "8571/8571 [==============================] - 0s 35us/step - loss: 97.8475 - mse: 97.8475 - val_loss: 80.5410 - val_mse: 80.5410\n",
      "Epoch 6/100\n",
      "8571/8571 [==============================] - 0s 35us/step - loss: 97.7417 - mse: 97.7417 - val_loss: 80.4794 - val_mse: 80.4794\n",
      "Epoch 7/100\n",
      "8571/8571 [==============================] - 0s 33us/step - loss: 95.9882 - mse: 95.9882 - val_loss: 86.3890 - val_mse: 86.3890\n",
      "Epoch 8/100\n",
      "8571/8571 [==============================] - 0s 35us/step - loss: 96.4795 - mse: 96.4795 - val_loss: 80.7680 - val_mse: 80.7680\n",
      "Epoch 9/100\n",
      "8571/8571 [==============================] - 0s 37us/step - loss: 95.3271 - mse: 95.3271 - val_loss: 80.3249 - val_mse: 80.3249\n",
      "Epoch 10/100\n",
      "8571/8571 [==============================] - 0s 39us/step - loss: 96.0098 - mse: 96.0098 - val_loss: 81.8437 - val_mse: 81.8437\n",
      "Epoch 11/100\n",
      "8571/8571 [==============================] - 0s 35us/step - loss: 94.8518 - mse: 94.8518 - val_loss: 80.2027 - val_mse: 80.2027\n",
      "Epoch 12/100\n",
      "8571/8571 [==============================] - 0s 34us/step - loss: 95.2518 - mse: 95.2518 - val_loss: 81.4318 - val_mse: 81.4318\n",
      "Epoch 13/100\n",
      "8571/8571 [==============================] - 0s 35us/step - loss: 93.6831 - mse: 93.6831 - val_loss: 80.1952 - val_mse: 80.1952\n",
      "Epoch 14/100\n",
      "8571/8571 [==============================] - 0s 36us/step - loss: 96.3177 - mse: 96.3177 - val_loss: 82.0655 - val_mse: 82.0655\n",
      "Epoch 15/100\n",
      "8571/8571 [==============================] - 0s 36us/step - loss: 93.6234 - mse: 93.6234 - val_loss: 81.0138 - val_mse: 81.0138\n",
      "Epoch 16/100\n",
      "8571/8571 [==============================] - 0s 36us/step - loss: 94.5227 - mse: 94.5228 - val_loss: 80.3887 - val_mse: 80.3887\n",
      "Epoch 17/100\n",
      "8571/8571 [==============================] - 0s 36us/step - loss: 94.7427 - mse: 94.7427 - val_loss: 81.1196 - val_mse: 81.1196\n",
      "Epoch 18/100\n",
      "8571/8571 [==============================] - 0s 36us/step - loss: 95.0846 - mse: 95.0846 - val_loss: 82.0835 - val_mse: 82.0835\n",
      "Epoch 19/100\n",
      "8571/8571 [==============================] - 0s 35us/step - loss: 95.0393 - mse: 95.0393 - val_loss: 90.8026 - val_mse: 90.8026\n",
      "Epoch 20/100\n",
      "8571/8571 [==============================] - 0s 36us/step - loss: 95.1046 - mse: 95.1046 - val_loss: 81.9355 - val_mse: 81.9355\n",
      "Epoch 21/100\n",
      "8571/8571 [==============================] - 0s 36us/step - loss: 92.8673 - mse: 92.8673 - val_loss: 80.9749 - val_mse: 80.9749\n",
      "Epoch 22/100\n",
      "8571/8571 [==============================] - 0s 36us/step - loss: 94.1924 - mse: 94.1924 - val_loss: 87.1550 - val_mse: 87.1550\n",
      "Epoch 23/100\n",
      "8571/8571 [==============================] - 0s 35us/step - loss: 94.0188 - mse: 94.0188 - val_loss: 83.2129 - val_mse: 83.2129\n",
      "Epoch 24/100\n",
      "8571/8571 [==============================] - 0s 36us/step - loss: 92.2483 - mse: 92.2483 - val_loss: 80.8674 - val_mse: 80.8674\n",
      "Epoch 25/100\n",
      "8571/8571 [==============================] - 0s 36us/step - loss: 93.1331 - mse: 93.1330 - val_loss: 81.5621 - val_mse: 81.5621\n",
      "Epoch 26/100\n",
      "8571/8571 [==============================] - 0s 36us/step - loss: 92.7674 - mse: 92.7674 - val_loss: 81.1267 - val_mse: 81.1267\n",
      "Epoch 27/100\n",
      "8571/8571 [==============================] - 0s 40us/step - loss: 90.6213 - mse: 90.6213 - val_loss: 81.0727 - val_mse: 81.0727\n",
      "Epoch 28/100\n",
      "8571/8571 [==============================] - 0s 36us/step - loss: 91.1856 - mse: 91.1856 - val_loss: 82.1332 - val_mse: 82.1332\n",
      "Epoch 29/100\n",
      "8571/8571 [==============================] - 0s 37us/step - loss: 92.4977 - mse: 92.4977 - val_loss: 83.6875 - val_mse: 83.6875\n",
      "Epoch 30/100\n",
      "8571/8571 [==============================] - 0s 36us/step - loss: 90.9537 - mse: 90.9537 - val_loss: 81.2803 - val_mse: 81.2803\n",
      "Epoch 31/100\n",
      "8571/8571 [==============================] - 0s 34us/step - loss: 90.7809 - mse: 90.7809 - val_loss: 84.3210 - val_mse: 84.3210\n",
      "Epoch 32/100\n",
      "8571/8571 [==============================] - 0s 34us/step - loss: 89.5018 - mse: 89.5018 - val_loss: 81.7304 - val_mse: 81.7304\n",
      "Epoch 33/100\n",
      "8571/8571 [==============================] - 0s 36us/step - loss: 91.6284 - mse: 91.6284 - val_loss: 81.7846 - val_mse: 81.7846\n",
      "Epoch 34/100\n",
      "8571/8571 [==============================] - 0s 35us/step - loss: 88.6642 - mse: 88.6642 - val_loss: 82.3773 - val_mse: 82.3773\n",
      "Epoch 35/100\n",
      "8571/8571 [==============================] - 0s 36us/step - loss: 88.8372 - mse: 88.8372 - val_loss: 81.7687 - val_mse: 81.7687\n",
      "Epoch 36/100\n",
      "8571/8571 [==============================] - 0s 34us/step - loss: 90.2573 - mse: 90.2573 - val_loss: 83.5119 - val_mse: 83.5119\n",
      "Epoch 37/100\n",
      "8571/8571 [==============================] - 0s 33us/step - loss: 88.7297 - mse: 88.7297 - val_loss: 81.7322 - val_mse: 81.7322\n",
      "Epoch 38/100\n",
      "8571/8571 [==============================] - 0s 36us/step - loss: 87.4739 - mse: 87.4739 - val_loss: 82.9721 - val_mse: 82.9721\n",
      "Epoch 39/100\n",
      "8571/8571 [==============================] - 0s 36us/step - loss: 87.6238 - mse: 87.6238 - val_loss: 82.2995 - val_mse: 82.2995\n",
      "Epoch 40/100\n",
      "8571/8571 [==============================] - 0s 37us/step - loss: 87.9491 - mse: 87.9491 - val_loss: 81.8188 - val_mse: 81.8188\n",
      "Epoch 41/100\n",
      "8571/8571 [==============================] - 0s 35us/step - loss: 87.7024 - mse: 87.7023 - val_loss: 81.8771 - val_mse: 81.8771\n",
      "Epoch 42/100\n",
      "8571/8571 [==============================] - 0s 36us/step - loss: 85.6697 - mse: 85.6698 - val_loss: 83.3028 - val_mse: 83.3027\n",
      "Epoch 43/100\n",
      "8571/8571 [==============================] - 0s 36us/step - loss: 86.6282 - mse: 86.6282 - val_loss: 82.5673 - val_mse: 82.5673\n",
      "Epoch 44/100\n",
      "8571/8571 [==============================] - 0s 33us/step - loss: 85.0654 - mse: 85.0655 - val_loss: 83.3716 - val_mse: 83.3716\n",
      "Epoch 45/100\n",
      "8571/8571 [==============================] - 0s 32us/step - loss: 84.0621 - mse: 84.0620 - val_loss: 82.3208 - val_mse: 82.3208\n",
      "Epoch 46/100\n",
      "8571/8571 [==============================] - 0s 35us/step - loss: 84.5107 - mse: 84.5106 - val_loss: 82.7056 - val_mse: 82.7056\n",
      "Epoch 47/100\n",
      "8571/8571 [==============================] - 0s 36us/step - loss: 85.4177 - mse: 85.4177 - val_loss: 94.8804 - val_mse: 94.8804\n",
      "Epoch 48/100\n",
      "8571/8571 [==============================] - 0s 34us/step - loss: 82.5340 - mse: 82.5340 - val_loss: 84.2651 - val_mse: 84.2651\n",
      "Epoch 49/100\n",
      "8571/8571 [==============================] - 0s 36us/step - loss: 84.5795 - mse: 84.5795 - val_loss: 82.9479 - val_mse: 82.9479\n",
      "Epoch 50/100\n",
      "8571/8571 [==============================] - 0s 37us/step - loss: 84.1906 - mse: 84.1906 - val_loss: 83.1018 - val_mse: 83.1018\n",
      "Epoch 51/100\n",
      "8571/8571 [==============================] - 0s 34us/step - loss: 83.7690 - mse: 83.7690 - val_loss: 83.1164 - val_mse: 83.1164\n",
      "Epoch 52/100\n",
      "8571/8571 [==============================] - 0s 36us/step - loss: 82.7194 - mse: 82.7194 - val_loss: 84.3206 - val_mse: 84.3206\n",
      "Epoch 53/100\n",
      "8571/8571 [==============================] - ETA: 0s - loss: 82.8461 - mse: 82.846 - 0s 35us/step - loss: 82.2150 - mse: 82.2150 - val_loss: 91.5163 - val_mse: 91.5163\n",
      "Epoch 54/100\n",
      "8571/8571 [==============================] - 0s 33us/step - loss: 82.3990 - mse: 82.3990 - val_loss: 84.9359 - val_mse: 84.9359\n",
      "Epoch 55/100\n",
      "8571/8571 [==============================] - 0s 35us/step - loss: 83.5567 - mse: 83.5567 - val_loss: 85.3436 - val_mse: 85.3436\n",
      "Epoch 56/100\n",
      "8571/8571 [==============================] - ETA: 0s - loss: 80.9893 - mse: 80.989 - 0s 35us/step - loss: 81.7437 - mse: 81.7437 - val_loss: 86.3833 - val_mse: 86.3833\n",
      "Epoch 57/100\n",
      "8571/8571 [==============================] - 0s 35us/step - loss: 81.7724 - mse: 81.7724 - val_loss: 83.2138 - val_mse: 83.2138\n",
      "Epoch 58/100\n"
     ]
    },
    {
     "name": "stdout",
     "output_type": "stream",
     "text": [
      "8571/8571 [==============================] - 0s 33us/step - loss: 81.2467 - mse: 81.2467 - val_loss: 83.6876 - val_mse: 83.6876\n",
      "Epoch 59/100\n",
      "8571/8571 [==============================] - 0s 32us/step - loss: 80.5528 - mse: 80.5528 - val_loss: 85.3660 - val_mse: 85.3660\n",
      "Epoch 60/100\n",
      "8571/8571 [==============================] - 0s 32us/step - loss: 81.4758 - mse: 81.4759 - val_loss: 84.0587 - val_mse: 84.0587\n",
      "Epoch 61/100\n",
      "8571/8571 [==============================] - 0s 32us/step - loss: 80.3470 - mse: 80.3470 - val_loss: 84.2908 - val_mse: 84.2909\n",
      "Epoch 62/100\n",
      "8571/8571 [==============================] - 0s 31us/step - loss: 79.7500 - mse: 79.7500 - val_loss: 84.9615 - val_mse: 84.9615\n",
      "Epoch 63/100\n",
      "8571/8571 [==============================] - 0s 31us/step - loss: 80.0422 - mse: 80.0422 - val_loss: 84.6204 - val_mse: 84.6204\n",
      "Epoch 64/100\n",
      "8571/8571 [==============================] - 0s 31us/step - loss: 80.5213 - mse: 80.5213 - val_loss: 85.6814 - val_mse: 85.6814\n",
      "Epoch 65/100\n",
      "8571/8571 [==============================] - 0s 32us/step - loss: 77.5087 - mse: 77.5087 - val_loss: 88.6508 - val_mse: 88.6508\n",
      "Epoch 66/100\n",
      "8571/8571 [==============================] - 0s 31us/step - loss: 78.6428 - mse: 78.6428 - val_loss: 88.5729 - val_mse: 88.5729\n",
      "Epoch 67/100\n",
      "8571/8571 [==============================] - 0s 32us/step - loss: 79.1670 - mse: 79.1670 - val_loss: 84.6725 - val_mse: 84.6725\n",
      "Epoch 68/100\n",
      "8571/8571 [==============================] - 0s 30us/step - loss: 78.7802 - mse: 78.7803 - val_loss: 84.3619 - val_mse: 84.3619\n",
      "Epoch 69/100\n",
      "8571/8571 [==============================] - 0s 32us/step - loss: 79.2003 - mse: 79.2003 - val_loss: 89.9361 - val_mse: 89.9361\n",
      "Epoch 70/100\n",
      "8571/8571 [==============================] - 0s 32us/step - loss: 78.1350 - mse: 78.1351 - val_loss: 85.5038 - val_mse: 85.5038\n",
      "Epoch 71/100\n",
      "8571/8571 [==============================] - 0s 32us/step - loss: 76.4918 - mse: 76.4918 - val_loss: 90.1784 - val_mse: 90.1784\n",
      "Epoch 72/100\n",
      "8571/8571 [==============================] - 0s 34us/step - loss: 78.1615 - mse: 78.1615 - val_loss: 86.9064 - val_mse: 86.9064\n",
      "Epoch 73/100\n",
      "8571/8571 [==============================] - 0s 36us/step - loss: 76.4974 - mse: 76.4974 - val_loss: 85.3712 - val_mse: 85.3712\n",
      "Epoch 74/100\n",
      "8571/8571 [==============================] - 0s 39us/step - loss: 78.2081 - mse: 78.2081 - val_loss: 90.2865 - val_mse: 90.2865\n",
      "Epoch 75/100\n",
      "8571/8571 [==============================] - 0s 34us/step - loss: 76.9911 - mse: 76.9911 - val_loss: 86.0057 - val_mse: 86.0057\n",
      "Epoch 76/100\n",
      "8571/8571 [==============================] - 0s 36us/step - loss: 76.6507 - mse: 76.6507 - val_loss: 85.7347 - val_mse: 85.7347\n",
      "Epoch 77/100\n",
      "8571/8571 [==============================] - 0s 38us/step - loss: 76.6056 - mse: 76.6056 - val_loss: 84.8677 - val_mse: 84.8677\n",
      "Epoch 78/100\n",
      "8571/8571 [==============================] - 0s 34us/step - loss: 75.6825 - mse: 75.6825 - val_loss: 91.6801 - val_mse: 91.6801\n",
      "Epoch 79/100\n",
      "8571/8571 [==============================] - 0s 35us/step - loss: 76.5540 - mse: 76.5540 - val_loss: 84.7006 - val_mse: 84.7006\n",
      "Epoch 80/100\n",
      "8571/8571 [==============================] - 0s 36us/step - loss: 75.9161 - mse: 75.9161 - val_loss: 85.4279 - val_mse: 85.4279\n",
      "Epoch 81/100\n",
      "8571/8571 [==============================] - 0s 38us/step - loss: 73.8470 - mse: 73.8470 - val_loss: 87.6022 - val_mse: 87.6022\n",
      "Epoch 82/100\n",
      "8571/8571 [==============================] - 0s 34us/step - loss: 74.6523 - mse: 74.6523 - val_loss: 86.5165 - val_mse: 86.5165\n",
      "Epoch 83/100\n",
      "8571/8571 [==============================] - 0s 37us/step - loss: 76.5969 - mse: 76.5969 - val_loss: 84.6736 - val_mse: 84.6736\n",
      "Epoch 84/100\n",
      "8571/8571 [==============================] - 0s 36us/step - loss: 72.7666 - mse: 72.7666 - val_loss: 98.9393 - val_mse: 98.9393\n",
      "Epoch 85/100\n",
      "8571/8571 [==============================] - 0s 36us/step - loss: 72.8458 - mse: 72.8458 - val_loss: 87.0171 - val_mse: 87.0171\n",
      "Epoch 86/100\n",
      "8571/8571 [==============================] - 0s 36us/step - loss: 73.3414 - mse: 73.3414 - val_loss: 91.9231 - val_mse: 91.9231\n",
      "Epoch 87/100\n",
      "8571/8571 [==============================] - 0s 35us/step - loss: 72.6445 - mse: 72.6445 - val_loss: 94.4006 - val_mse: 94.4006\n",
      "Epoch 88/100\n",
      "8571/8571 [==============================] - 0s 37us/step - loss: 72.1877 - mse: 72.1877 - val_loss: 86.7386 - val_mse: 86.7386\n",
      "Epoch 89/100\n",
      "8571/8571 [==============================] - 0s 34us/step - loss: 73.1915 - mse: 73.1915 - val_loss: 88.4904 - val_mse: 88.4904\n",
      "Epoch 90/100\n",
      "8571/8571 [==============================] - 0s 37us/step - loss: 72.1222 - mse: 72.1222 - val_loss: 90.2547 - val_mse: 90.2547\n",
      "Epoch 91/100\n",
      "8571/8571 [==============================] - 0s 37us/step - loss: 71.5654 - mse: 71.5654 - val_loss: 90.0939 - val_mse: 90.0939\n",
      "Epoch 92/100\n",
      "8571/8571 [==============================] - 0s 37us/step - loss: 73.5391 - mse: 73.5390 - val_loss: 88.5421 - val_mse: 88.5421\n",
      "Epoch 93/100\n",
      "8571/8571 [==============================] - 0s 37us/step - loss: 70.0730 - mse: 70.0730 - val_loss: 88.5515 - val_mse: 88.5515\n",
      "Epoch 94/100\n",
      "8571/8571 [==============================] - 0s 38us/step - loss: 71.7653 - mse: 71.7653 - val_loss: 86.1080 - val_mse: 86.1080\n",
      "Epoch 95/100\n",
      "8571/8571 [==============================] - 0s 36us/step - loss: 71.5515 - mse: 71.5515 - val_loss: 86.4498 - val_mse: 86.4499\n",
      "Epoch 96/100\n",
      "8571/8571 [==============================] - 0s 38us/step - loss: 72.2647 - mse: 72.2646 - val_loss: 100.1747 - val_mse: 100.1747\n",
      "Epoch 97/100\n",
      "8571/8571 [==============================] - 0s 36us/step - loss: 69.9404 - mse: 69.9404 - val_loss: 97.1370 - val_mse: 97.1370\n",
      "Epoch 98/100\n",
      "8571/8571 [==============================] - 0s 37us/step - loss: 70.9253 - mse: 70.9253 - val_loss: 88.9403 - val_mse: 88.9403\n",
      "Epoch 99/100\n",
      "8571/8571 [==============================] - 0s 38us/step - loss: 70.0414 - mse: 70.0414 - val_loss: 85.3357 - val_mse: 85.3357\n",
      "Epoch 100/100\n",
      "8571/8571 [==============================] - 0s 36us/step - loss: 69.3778 - mse: 69.3778 - val_loss: 86.9262 - val_mse: 86.9262\n"
     ]
    },
    {
     "data": {
      "image/png": "[encoded data removed]",
      "text/plain": [
       "<Figure size 432x288 with 1 Axes>"
      ]
     },
     "metadata": {
      "needs_background": "light"
     },
     "output_type": "display_data"
    }
   ],
   "source": [
    "model.compile('rmsprop', loss='mse', metrics=['mse'])\n",
    "history=model.fit(X_train,Y_train,batch_size=64,epochs=100,validation_data=(X_validation,Y_validation))\n",
    "plt.plot(history.history['val_loss'][20:],label='Validation loss')\n",
    "plt.plot(history.history['loss'][20:],label='Training loss')\n",
    "plt.show()"
   ]
  },
  {
   "cell_type": "markdown",
   "metadata": {},
   "source": [
    "## Conclusion-\n",
    "Out of all the different ML and DL algorithms used so far random forest gives best fit and generalization. Use of genetic algorithms and random search in hyper parameter space gave better generalization as compared to simple linear model.\n"
   ]
  },
  {
   "cell_type": "code",
   "execution_count": 68,
   "metadata": {},
   "outputs": [
    {
     "name": "stderr",
     "output_type": "stream",
     "text": [
      "/home/kartik/.local/lib/python3.6/site-packages/ipykernel_launcher.py:3: DataConversionWarning: A column-vector y was passed when a 1d array was expected. Please change the shape of y to (n_samples,), for example using ravel().\n",
      "  This is separate from the ipykernel package so we can avoid doing imports until\n"
     ]
    },
    {
     "name": "stdout",
     "output_type": "stream",
     "text": [
      "Random Forest regressor results:\n",
      "Training MSE: 80.95957165481065\n",
      "Validation MSE: 79.19747996969991\n"
     ]
    }
   ],
   "source": [
    "#Optimized Random forest regressor\n",
    "model= RandomForestRegressor(n_estimators=100,max_depth=4)\n",
    "model.fit(X_train,Y_train)\n",
    "#prediction=model.predict(X_validation)\n",
    "print(\"Random Forest regressor results:\")\n",
    "print(\"Training MSE: {}\".format(mean_squared_error(model.predict(X_train),Y_train)))\n",
    "print(\"Validation MSE: {}\".format(mean_squared_error(model.predict(X_validation),Y_validation)))"
   ]
  },
  {
   "cell_type": "markdown",
   "metadata": {},
   "source": [
    "As can be seen MSE on validation dataset is smaller as compared to training dataset and MSE obtained is smaller as compared to linear regression, xgboost, multilayer perceptron."
   ]
  },
  {
   "cell_type": "markdown",
   "metadata": {},
   "source": [
    "## Predictions"
   ]
  },
  {
   "cell_type": "code",
   "execution_count": 81,
   "metadata": {},
   "outputs": [
    {
     "name": "stderr",
     "output_type": "stream",
     "text": [
      "/home/kartik/.local/lib/python3.6/site-packages/ipykernel_launcher.py:3: DataConversionWarning: A column-vector y was passed when a 1d array was expected. Please change the shape of y to (n_samples,), for example using ravel().\n",
      "  This is separate from the ipykernel package so we can avoid doing imports until\n"
     ]
    }
   ],
   "source": [
    "#Optimized Random forest regressor\n",
    "model= RandomForestRegressor(n_estimators=100,max_depth=4)\n",
    "model.fit(X,Y)\n",
    "prediction=model.predict(X_test)\n",
    "submission=pd.concat([pd.DataFrame(test_id,columns=['people_ID']),pd.DataFrame(prediction,columns=['infect_prob'])],axis=1)\n",
    "#prediction=model.predict(X_validation)\n",
    "#print(\"Random Forest regressor results:\")\n",
    "#print(\"Training MSE: {}\".format(mean_squared_error(model.predict(X_train),Y_train)))\n",
    "#print(\"Validation MSE: {}\".format(mean_squared_error(model.predict(X_validation),Y_validation)))"
   ]
  },
  {
   "cell_type": "code",
   "execution_count": 82,
   "metadata": {},
   "outputs": [],
   "source": [
    "submission.to_csv('submission-part1.csv',index=False)"
   ]
  },
  {
   "cell_type": "code",
   "execution_count": null,
   "metadata": {},
   "outputs": [],
   "source": []
  }
 ],
 "metadata": {
  "kernelspec": {
   "display_name": "Python 3",
   "language": "python",
   "name": "python3"
  },
  "language_info": {
   "codemirror_mode": {
    "name": "ipython",
    "version": 3
   },
   "file_extension": ".py",
   "mimetype": "text/x-python",
   "name": "python",
   "nbconvert_exporter": "python",
   "pygments_lexer": "ipython3",
   "version": "3.6.9"
  }
 },
 "nbformat": 4,
 "nbformat_minor": 4
}
